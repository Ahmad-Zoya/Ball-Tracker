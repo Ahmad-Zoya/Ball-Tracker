{
 "cells": [
  {
   "cell_type": "code",
   "execution_count": 1,
   "id": "68d2588b",
   "metadata": {},
   "outputs": [
    {
     "name": "stdout",
     "output_type": "stream",
     "text": [
      "Requirement already satisfied: opencv-python in c:\\users\\administrator\\anaconda3\\lib\\site-packages (4.7.0.72)\n",
      "Requirement already satisfied: numpy in c:\\users\\administrator\\anaconda3\\lib\\site-packages (1.23.5)\n",
      "Note: you may need to restart the kernel to use updated packages.\n"
     ]
    }
   ],
   "source": [
    "pip install opencv-python numpy\n"
   ]
  },
  {
   "cell_type": "code",
   "execution_count": 1,
   "id": "8a2a71f5",
   "metadata": {},
   "outputs": [],
   "source": [
    "import cv2\n",
    "import numpy as np\n",
    "\n",
    "# Function to read the video file\n",
    "def read_video(file_path):\n",
    "    cap = cv2.VideoCapture(file_path)\n",
    "    return cap\n"
   ]
  },
  {
   "cell_type": "code",
   "execution_count": 2,
   "id": "457dab8f",
   "metadata": {},
   "outputs": [],
   "source": [
    "def define_quadrants(frame):\n",
    "    height, width, _ = frame.shape\n",
    "    quadrants = {\n",
    "        1: [(0, 0), (width//2, height//2)],\n",
    "        2: [(width//2, 0), (width, height//2)],\n",
    "        3: [(0, height//2), (width//2, height)],\n",
    "        4: [(width//2, height//2), (width, height)]\n",
    "    }\n",
    "    return quadrants\n"
   ]
  },
  {
   "cell_type": "code",
   "execution_count": 3,
   "id": "28d9ff9d",
   "metadata": {},
   "outputs": [],
   "source": [
    "def detect_balls(frame):\n",
    "    hsv_frame = cv2.cvtColor(frame, cv2.COLOR_BGR2HSV)\n",
    "    \n",
    "    # Define color ranges for detection\n",
    "    colors = {\n",
    "        'red': [(0, 120, 70), (10, 255, 255)],\n",
    "        'green': [(36, 100, 100), (86, 255, 255)],\n",
    "        'blue': [(94, 80, 2), (126, 255, 255)]\n",
    "    }\n",
    "    \n",
    "    balls = []\n",
    "    for color, (lower, upper) in colors.items():\n",
    "        lower_np = np.array(lower)\n",
    "        upper_np = np.array(upper)\n",
    "        mask = cv2.inRange(hsv_frame, lower_np, upper_np)\n",
    "        contours, _ = cv2.findContours(mask, cv2.RETR_TREE, cv2.CHAIN_APPROX_SIMPLE)\n",
    "        for contour in contours:\n",
    "            if cv2.contourArea(contour) > 300:\n",
    "                x, y, w, h = cv2.boundingRect(contour)\n",
    "                balls.append((color, (x + w // 2, y + h // 2)))\n",
    "    return balls\n"
   ]
  },
  {
   "cell_type": "code",
   "execution_count": 4,
   "id": "a092df94",
   "metadata": {},
   "outputs": [],
   "source": [
    "def record_event(events, time, quadrant, ball_color, event_type):\n",
    "    event = f\"{time:.2f}, {quadrant}, {ball_color}, {event_type}\"\n",
    "    events.append(event)\n",
    "\n",
    "def is_in_quadrant(position, quadrant_coords):\n",
    "    x, y = position\n",
    "    (x1, y1), (x2, y2) = quadrant_coords\n",
    "    return x1 <= x <= x2 and y1 <= y <= y2\n"
   ]
  },
  {
   "cell_type": "code",
   "execution_count": 5,
   "id": "ca7b9478",
   "metadata": {},
   "outputs": [],
   "source": [
    "def process_video(video_path, output_video_path, output_text_path):\n",
    "    cap = read_video(video_path)\n",
    "    fourcc = cv2.VideoWriter_fourcc(*'XVID')\n",
    "    out = None\n",
    "    events = []\n",
    "\n",
    "    frame_rate = cap.get(cv2.CAP_PROP_FPS)\n",
    "    start_time = 0\n",
    "    prev_positions = {}\n",
    "\n",
    "    while cap.isOpened():\n",
    "        ret, frame = cap.read()\n",
    "        if not ret:\n",
    "            break\n",
    "        \n",
    "        if out is None:\n",
    "            height, width, _ = frame.shape\n",
    "            out = cv2.VideoWriter(output_video_path, fourcc, frame_rate, (width, height))\n",
    "        \n",
    "        quadrants = define_quadrants(frame)\n",
    "        balls = detect_balls(frame)\n",
    "        \n",
    "        current_time = cap.get(cv2.CAP_PROP_POS_MSEC) / 1000\n",
    "        \n",
    "        for ball_color, position in balls:\n",
    "            if ball_color not in prev_positions:\n",
    "                prev_positions[ball_color] = {}\n",
    "\n",
    "            for quadrant_num, quadrant_coords in quadrants.items():\n",
    "                in_quadrant_now = is_in_quadrant(position, quadrant_coords)\n",
    "                in_quadrant_prev = prev_positions[ball_color].get(quadrant_num, False)\n",
    "\n",
    "                if in_quadrant_now and not in_quadrant_prev:\n",
    "                    record_event(events, current_time, quadrant_num, ball_color, 'Entry')\n",
    "                    cv2.putText(frame, f\"Entry {current_time:.2f}\", (position[0], position[1]), cv2.FONT_HERSHEY_SIMPLEX, 0.5, (255, 255, 255), 2)\n",
    "                elif not in_quadrant_now and in_quadrant_prev:\n",
    "                    record_event(events, current_time, quadrant_num, ball_color, 'Exit')\n",
    "                    cv2.putText(frame, f\"Exit {current_time:.2f}\", (position[0], position[1]), cv2.FONT_HERSHEY_SIMPLEX, 0.5, (255, 255, 255), 2)\n",
    "                \n",
    "                prev_positions[ball_color][quadrant_num] = in_quadrant_now\n",
    "\n",
    "        out.write(frame)\n",
    "\n",
    "    cap.release()\n",
    "    out.release()\n",
    "    \n",
    "    with open(output_text_path, 'w') as f:\n",
    "        for event in events:\n",
    "            f.write(f\"{event}\\n\")\n"
   ]
  },
  {
   "cell_type": "code",
   "execution_count": 6,
   "id": "dbc136ad",
   "metadata": {},
   "outputs": [],
   "source": [
    "video_path = \"C:/Users/Administrator/Downloads/AI Assignment video.mp4\"\n",
    "output_video_path = 'processed_video.avi'\n",
    "output_text_path = 'events.txt'\n",
    "process_video(video_path, output_video_path, output_text_path)\n"
   ]
  }
 ],
 "metadata": {
  "kernelspec": {
   "display_name": "Python 3 (ipykernel)",
   "language": "python",
   "name": "python3"
  },
  "language_info": {
   "codemirror_mode": {
    "name": "ipython",
    "version": 3
   },
   "file_extension": ".py",
   "mimetype": "text/x-python",
   "name": "python",
   "nbconvert_exporter": "python",
   "pygments_lexer": "ipython3",
   "version": "3.10.9"
  }
 },
 "nbformat": 4,
 "nbformat_minor": 5
}
